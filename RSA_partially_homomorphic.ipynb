{
 "cells": [
  {
   "cell_type": "markdown",
   "metadata": {},
   "source": [
    "## Exemple de l'homomorphie partielle du RSA sans padding\n",
    "Pour rappel, le RSA est l'algorithme de chiffrement dérrière le protocole HTTPS).\n",
    "\n",
    "Sa version sans padding (inutilisée en pratique) est homomorphe selon la multiplication."
   ]
  },
  {
   "cell_type": "code",
   "execution_count": 1,
   "metadata": {},
   "outputs": [],
   "source": [
    "from Crypto.PublicKey import RSA\n",
    "import gmpy2"
   ]
  },
  {
   "cell_type": "code",
   "execution_count": 2,
   "metadata": {},
   "outputs": [],
   "source": [
    "def encrypt_rsa_no_padding(number, key):\n",
    "    return gmpy2.powmod(number, key.e, key.n)\n",
    "\n",
    "def decrypt_rsa_no_padding(number, key):\n",
    "    return gmpy2.powmod(number, key.d, key.n)"
   ]
  },
  {
   "cell_type": "markdown",
   "metadata": {},
   "source": [
    "### Génération d'une clé RSA"
   ]
  },
  {
   "cell_type": "code",
   "execution_count": 3,
   "metadata": {},
   "outputs": [],
   "source": [
    "key = RSA.generate(1024)"
   ]
  },
  {
   "cell_type": "markdown",
   "metadata": {},
   "source": [
    "### Chiffrement de 2 nombres\n",
    "6 et 7"
   ]
  },
  {
   "cell_type": "code",
   "execution_count": 4,
   "metadata": {},
   "outputs": [
    {
     "name": "stdout",
     "output_type": "stream",
     "text": [
      "Le nombre 6 chiffré est 35155556920071377805513822083901894175814023423422596992631817133086465284522876236688470978009525761634836362793258462494477718920063439841411560553028353828878756294352537982646662522893980409100732801885303096171086001675254323854166800743245423555653020910655342429035917564173714099227103496759936733235\n"
     ]
    }
   ],
   "source": [
    "e6 = gmpy2.powmod(6, key.e, key.n)\n",
    "print(\"Le nombre 6 chiffré est {}\".format(e6))"
   ]
  },
  {
   "cell_type": "code",
   "execution_count": 5,
   "metadata": {},
   "outputs": [
    {
     "name": "stdout",
     "output_type": "stream",
     "text": [
      "Le nombre 7 chiffré est 114940991957952091684926670656671857553306406385252117378079845037420315670412344873581148703600421976859269527096358812657842140178614958678389090943737180281328591056621306699519505827659176840531073739879341905605106355358175862137549475050036923255055945014368732695618368482105092163540930881641261821768\n"
     ]
    }
   ],
   "source": [
    "e7 = gmpy2.powmod(7, key.e, key.n)\n",
    "print(\"Le nombre 7 chiffré est {}\".format(e7))"
   ]
  },
  {
   "cell_type": "markdown",
   "metadata": {},
   "source": [
    "### Multiplication de mes 2 nombres chiffrés"
   ]
  },
  {
   "cell_type": "code",
   "execution_count": 6,
   "metadata": {},
   "outputs": [
    {
     "name": "stdout",
     "output_type": "stream",
     "text": [
      "Le resultat chiffré est 4040814585227251241632038768909935886687745947478778705353661665898814334035572073134274831451504113890197962059917815257192894975375085671805140607572497491946379016228451796162639048104666566040422160872053728609267943284334842279041736542648916371626491747019319414510043916852019816906944136189515290176392835945535035611393394529188215009596000587339007118379748090556281914131088722464144191778709873075488602856839736079242668140932294973853124503262958613217352330819144289024396870770268508023540394260411010894364244529866701345510754459355642529413451982382244511015474608778512869012230644945698732059480\n"
     ]
    }
   ],
   "source": [
    "crypted_result = e7 * e6\n",
    "print(\"Le resultat chiffré est {}\".format(crypted_result))"
   ]
  },
  {
   "cell_type": "markdown",
   "metadata": {},
   "source": [
    "## Déchiffrement du resultat"
   ]
  },
  {
   "cell_type": "code",
   "execution_count": 7,
   "metadata": {},
   "outputs": [
    {
     "name": "stdout",
     "output_type": "stream",
     "text": [
      "Le resultat déchiffré est 42\n"
     ]
    }
   ],
   "source": [
    "result = decrypt_rsa_no_padding(crypted_result, key)\n",
    "print(\"Le resultat déchiffré est {}\".format(result))"
   ]
  },
  {
   "cell_type": "markdown",
   "metadata": {},
   "source": [
    "### Cette propriété n'est pas vraie pour l'addition..."
   ]
  },
  {
   "cell_type": "code",
   "execution_count": 8,
   "metadata": {},
   "outputs": [
    {
     "name": "stdout",
     "output_type": "stream",
     "text": [
      "Le resultat déchiffré est 32835454193776927249376908282231393920944058723111057402889688368608925064363892870896002526447977033759802415557865940266217168955589189365963204946027887227919506637337693467255384584198405710627533267285624916105751243734489652271966895505552038049479088080243745171754207118040971254860998804449810456822\n"
     ]
    }
   ],
   "source": [
    "crypted_result = e6 + e7\n",
    "result = decrypt_rsa_no_padding(crypted_result, key)\n",
    "print(\"Le resultat déchiffré est {}\".format(result))"
   ]
  },
  {
   "cell_type": "markdown",
   "metadata": {},
   "source": [
    "## Propriété lié au morphisme\n",
    "* chiffrer l'élément neutre est égal à lui-méme"
   ]
  },
  {
   "cell_type": "code",
   "execution_count": 9,
   "metadata": {},
   "outputs": [
    {
     "name": "stdout",
     "output_type": "stream",
     "text": [
      "Le resultat chiffré est 1\n"
     ]
    }
   ],
   "source": [
    "crypted_result = encrypt_rsa_no_padding(1, key)\n",
    "print(\"Le resultat chiffré est {}\".format(crypted_result))"
   ]
  }
 ],
 "metadata": {
  "kernelspec": {
   "display_name": "Python 3",
   "language": "python",
   "name": "python3"
  },
  "language_info": {
   "codemirror_mode": {
    "name": "ipython",
    "version": 3
   },
   "file_extension": ".py",
   "mimetype": "text/x-python",
   "name": "python",
   "nbconvert_exporter": "python",
   "pygments_lexer": "ipython3",
   "version": "3.6.5"
  }
 },
 "nbformat": 4,
 "nbformat_minor": 2
}
