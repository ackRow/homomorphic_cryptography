{
 "cells": [
  {
   "cell_type": "markdown",
   "metadata": {},
   "source": [
    "## Exemple de l'homomorphie partielle du RSA sans padding\n",
    "Pour rappel, le RSA est l'algorithme de chiffrement dérrière le protocole HTTPS.\n",
    "\n",
    "Sa version sans padding (inutilisée en pratique) est homomorphe selon la multiplication."
   ]
  },
  {
   "cell_type": "code",
   "execution_count": 1,
   "metadata": {},
   "outputs": [],
   "source": [
    "from Crypto.PublicKey import RSA\n",
    "import gmpy2"
   ]
  },
  {
   "cell_type": "code",
   "execution_count": 2,
   "metadata": {},
   "outputs": [],
   "source": [
    "def encrypt_rsa_no_padding(number, key):\n",
    "    return gmpy2.powmod(number, key.e, key.n)\n",
    "\n",
    "def decrypt_rsa_no_padding(number, key):\n",
    "    return gmpy2.powmod(number, key.d, key.n)"
   ]
  },
  {
   "cell_type": "markdown",
   "metadata": {},
   "source": [
    "### Génération d'une clé RSA"
   ]
  },
  {
   "cell_type": "code",
   "execution_count": 3,
   "metadata": {},
   "outputs": [],
   "source": [
    "key = RSA.generate(1024)"
   ]
  },
  {
   "cell_type": "markdown",
   "metadata": {},
   "source": [
    "### Chiffrement de 2 nombres\n",
    "6 et 7"
   ]
  },
  {
   "cell_type": "code",
   "execution_count": 4,
   "metadata": {},
   "outputs": [
    {
     "name": "stdout",
     "output_type": "stream",
     "text": [
      "Le nombre 6 chiffré est 103671482818064707246763153447814229971937534933421028822963052689145206074990201616732007466114378815034161368977661709059802590490031722886396382485244768096409248366642698077167165020116769867062988854364592592457745386700455107108274089479341827577111593748063128600691531171875076497199611585888656790498\n"
     ]
    }
   ],
   "source": [
    "e6 = encrypt_rsa_no_padding(6, key)\n",
    "print(\"Le nombre 6 chiffré est {}\".format(e6))"
   ]
  },
  {
   "cell_type": "code",
   "execution_count": 5,
   "metadata": {},
   "outputs": [
    {
     "name": "stdout",
     "output_type": "stream",
     "text": [
      "Le nombre 7 chiffré est 123049667045198276056668820088638179066071613283727094850572349739573773113248759935987597391673825318963941183460783686394185310745701258416799082267399741828796962178274265991198603224080171286998134484868411775858259605129960764736646343827781377539250940181604688008735888921202058145850797335943378580068\n"
     ]
    }
   ],
   "source": [
    "e7 = encrypt_rsa_no_padding(7, key)\n",
    "print(\"Le nombre 7 chiffré est {}\".format(e7))"
   ]
  },
  {
   "cell_type": "markdown",
   "metadata": {},
   "source": [
    "### Multiplication de mes 2 nombres chiffrés"
   ]
  },
  {
   "cell_type": "code",
   "execution_count": 6,
   "metadata": {},
   "outputs": [
    {
     "name": "stdout",
     "output_type": "stream",
     "text": [
      "Le resultat chiffré est 12756741442844856110781779891761097093465294982550912668760526374928119101752462731456915241066545782007349776691980828579305747363223016214703875322293426694132354889451351553294757256408412000943676801404722943530874952252393805302372696347078292540578749482786820082278527158125160767853346567468669231842745003996099289648544544322404320814369893612605094545142021391796229797289907811675277978930748256098993192018483764230875820869307378533762077993518977691707097717728185820574683292404057872799100944373419032596342040497103831169900227996464396521695510067542661107982900663603921066552114391797789394593864\n"
     ]
    }
   ],
   "source": [
    "crypted_result = e7 * e6\n",
    "print(\"Le resultat chiffré est {}\".format(crypted_result))"
   ]
  },
  {
   "cell_type": "markdown",
   "metadata": {},
   "source": [
    "## Déchiffrement du resultat"
   ]
  },
  {
   "cell_type": "code",
   "execution_count": 7,
   "metadata": {},
   "outputs": [
    {
     "name": "stdout",
     "output_type": "stream",
     "text": [
      "Le resultat déchiffré est 42\n"
     ]
    }
   ],
   "source": [
    "result = decrypt_rsa_no_padding(crypted_result, key)\n",
    "print(\"Le resultat déchiffré est {}\".format(result))"
   ]
  },
  {
   "cell_type": "markdown",
   "metadata": {},
   "source": [
    "### Cette propriété n'est pas vraie pour l'addition..."
   ]
  },
  {
   "cell_type": "code",
   "execution_count": 8,
   "metadata": {},
   "outputs": [
    {
     "name": "stdout",
     "output_type": "stream",
     "text": [
      "Le resultat déchiffré est 118415520533750179684888117587332322458396774978094909202046894453334661159240514897856588470605773045884034375718556873940078859662407670221225435621041648090790228383448048595515086164227679764477649973224644265411761313348251713988419371490203055108863454600630828619367578563970582524988612242266163274457\n"
     ]
    }
   ],
   "source": [
    "crypted_result = e6 + e7\n",
    "result = decrypt_rsa_no_padding(crypted_result, key)\n",
    "print(\"Le resultat déchiffré est {}\".format(result))"
   ]
  },
  {
   "cell_type": "markdown",
   "metadata": {},
   "source": [
    "## Propriété lié au morphisme\n",
    "* chiffrer l'élément neutre est égal à lui-méme"
   ]
  },
  {
   "cell_type": "code",
   "execution_count": 9,
   "metadata": {},
   "outputs": [
    {
     "name": "stdout",
     "output_type": "stream",
     "text": [
      "Le resultat chiffré est 1\n"
     ]
    }
   ],
   "source": [
    "crypted_result = encrypt_rsa_no_padding(1, key)\n",
    "print(\"Le resultat chiffré est {}\".format(crypted_result))"
   ]
  }
 ],
 "metadata": {
  "kernelspec": {
   "display_name": "Python 3",
   "language": "python",
   "name": "python3"
  },
  "language_info": {
   "codemirror_mode": {
    "name": "ipython",
    "version": 3
   },
   "file_extension": ".py",
   "mimetype": "text/x-python",
   "name": "python",
   "nbconvert_exporter": "python",
   "pygments_lexer": "ipython3",
   "version": "3.6.5"
  }
 },
 "nbformat": 4,
 "nbformat_minor": 2
}
