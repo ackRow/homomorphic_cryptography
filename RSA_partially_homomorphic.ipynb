{
 "cells": [
  {
   "cell_type": "markdown",
   "metadata": {},
   "source": [
    "## Exemple de l'homomorphie partielle du RSA sans padding\n",
    "Pour rappel, le RSA est l'algorithme de chiffrement dérrière le protocole HTTPS.\n",
    "\n",
    "Sa version sans padding (inutilisée en pratique) est homomorphe selon la multiplication."
   ]
  },
  {
   "cell_type": "code",
   "execution_count": 1,
   "metadata": {},
   "outputs": [],
   "source": [
    "from Crypto.PublicKey import RSA\n",
    "import gmpy2"
   ]
  },
  {
   "cell_type": "code",
   "execution_count": 2,
   "metadata": {},
   "outputs": [],
   "source": [
    "def encrypt_rsa_no_padding(number, key):\n",
    "    return gmpy2.powmod(number, key.e, key.n)\n",
    "\n",
    "def decrypt_rsa_no_padding(number, key):\n",
    "    return gmpy2.powmod(number, key.d, key.n)"
   ]
  },
  {
   "cell_type": "markdown",
   "metadata": {},
   "source": [
    "### Génération d'une clé RSA"
   ]
  },
  {
   "cell_type": "code",
   "execution_count": 3,
   "metadata": {},
   "outputs": [],
   "source": [
    "key = RSA.generate(1024)"
   ]
  },
  {
   "cell_type": "markdown",
   "metadata": {},
   "source": [
    "### Chiffrement de 2 nombres\n",
    "6 et 7"
   ]
  },
  {
   "cell_type": "code",
   "execution_count": 4,
   "metadata": {},
   "outputs": [
    {
     "name": "stdout",
     "output_type": "stream",
     "text": [
      "Le nombre 6 chiffré est 64912943373169698985714259465084407749684752590814279383306584936491482219203951007774754264832016214692699649457457932174739681337716526215371390251258251602340256382731274982208349416577693987395405119981542487126222918144865235797067174745586602258831653123980949097696202606110171262253037562975496740873\n"
     ]
    }
   ],
   "source": [
    "e6 = encrypt_rsa_no_padding(6, key)\n",
    "print(\"Le nombre 6 chiffré est {}\".format(e6))"
   ]
  },
  {
   "cell_type": "code",
   "execution_count": 5,
   "metadata": {},
   "outputs": [
    {
     "name": "stdout",
     "output_type": "stream",
     "text": [
      "Le nombre 7 chiffré est 64087787010140355873981262550146831657895800825289587574493281472046668350971582104452839144673670344577893185685366657138146290778121207998127076931752883450631731925196962854875739528058295045236783739985505910112610911772217838823835366569952350488999861787981178784210866023375681080679033373002337991713\n"
     ]
    }
   ],
   "source": [
    "e7 = encrypt_rsa_no_padding(7, key)\n",
    "print(\"Le nombre 7 chiffré est {}\".format(e7))"
   ]
  },
  {
   "cell_type": "markdown",
   "metadata": {},
   "source": [
    "### Multiplication de mes 2 nombres chiffrés"
   ]
  },
  {
   "cell_type": "code",
   "execution_count": 6,
   "metadata": {},
   "outputs": [
    {
     "name": "stdout",
     "output_type": "stream",
     "text": [
      "Le resultat chiffré est 4160126889101001530082105931548386570453393386057041875509201453086850864971486887405317965214895072273543947385265658995369493939441998634466699817467219063517509220362137366593818664332247106870791895073805196875201660846790769225181826793505424822753806890838070975091322155346598130580824272427819472789606804787953414344750836378790601579752347108253077548016367840960133112542857577814989200750852493711308120433313458019092822834661270227000387597069499265001629298352527210198698427049319533414605676016236314890628510743481284037670536102521765561410963828897841218468555946685758602676814581631219582385449\n"
     ]
    }
   ],
   "source": [
    "crypted_result = e7 * e6\n",
    "print(\"Le resultat chiffré est {}\".format(crypted_result))"
   ]
  },
  {
   "cell_type": "markdown",
   "metadata": {},
   "source": [
    "## Déchiffrement du resultat"
   ]
  },
  {
   "cell_type": "code",
   "execution_count": 7,
   "metadata": {},
   "outputs": [
    {
     "name": "stdout",
     "output_type": "stream",
     "text": [
      "Le resultat déchiffré est 42\n"
     ]
    }
   ],
   "source": [
    "result = decrypt_rsa_no_padding(crypted_result, key)\n",
    "print(\"Le resultat déchiffré est {}\".format(result))"
   ]
  },
  {
   "cell_type": "markdown",
   "metadata": {},
   "source": [
    "### Cette propriété n'est pas vraie pour l'addition..."
   ]
  },
  {
   "cell_type": "code",
   "execution_count": 8,
   "metadata": {},
   "outputs": [
    {
     "name": "stdout",
     "output_type": "stream",
     "text": [
      "Le resultat déchiffré est 49229746360333178439277913229470367934571372833673625271015216511191637336838005811793456761368097883984666968120159688661649306861869112092331392209521131921317054975274209502882691222151325863921236951896979832897806646745741095511218082377133362083927669110520705399816815505281636024341450454136783926776\n"
     ]
    }
   ],
   "source": [
    "crypted_result = e6 + e7\n",
    "result = decrypt_rsa_no_padding(crypted_result, key)\n",
    "print(\"Le resultat déchiffré est {}\".format(result))"
   ]
  },
  {
   "cell_type": "markdown",
   "metadata": {},
   "source": [
    "## Propriété lié au morphisme\n",
    "* chiffrer l'élément neutre est égal à lui-méme"
   ]
  },
  {
   "cell_type": "code",
   "execution_count": 9,
   "metadata": {},
   "outputs": [
    {
     "name": "stdout",
     "output_type": "stream",
     "text": [
      "Le resultat chiffré est 1\n"
     ]
    }
   ],
   "source": [
    "crypted_result = encrypt_rsa_no_padding(1, key)\n",
    "print(\"Le resultat chiffré est {}\".format(crypted_result))"
   ]
  }
 ],
 "metadata": {
  "kernelspec": {
   "display_name": "Python 3",
   "language": "python",
   "name": "python3"
  },
  "language_info": {
   "codemirror_mode": {
    "name": "ipython",
    "version": 3
   },
   "file_extension": ".py",
   "mimetype": "text/x-python",
   "name": "python",
   "nbconvert_exporter": "python",
   "pygments_lexer": "ipython3",
   "version": "3.6.5"
  }
 },
 "nbformat": 4,
 "nbformat_minor": 2
}
